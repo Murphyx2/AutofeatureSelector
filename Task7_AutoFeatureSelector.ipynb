{
 "cells": [
  {
   "cell_type": "markdown",
   "metadata": {},
   "source": [
    "# Task 7: AutoFeatureSelector Tool\n",
    "## This task is to test your understanding of various Feature Selection methods outlined in the lecture and the ability to apply this knowledge in a real-world dataset to select best features and also to build an automated feature selection tool as your toolkit\n",
    "\n",
    "### Use your knowledge of different feature selector methods to build an Automatic Feature Selection tool\n",
    "- Pearson Correlation\n",
    "- Chi-Square\n",
    "- RFE\n",
    "- Embedded\n",
    "- Tree (Random Forest)\n",
    "- Tree (Light GBM)"
   ]
  },
  {
   "cell_type": "markdown",
   "metadata": {},
   "source": [
    "### Dataset: FIFA 19 Player Skills\n",
    "#### Attributes: FIFA 2019 players attributes like Age, Nationality, Overall, Potential, Club, Value, Wage, Preferred Foot, International Reputation, Weak Foot, Skill Moves, Work Rate, Position, Jersey Number, Joined, Loaned From, Contract Valid Until, Height, Weight, LS, ST, RS, LW, LF, CF, RF, RW, LAM, CAM, RAM, LM, LCM, CM, RCM, RM, LWB, LDM, CDM, RDM, RWB, LB, LCB, CB, RCB, RB, Crossing, Finishing, Heading, Accuracy, ShortPassing, Volleys, Dribbling, Curve, FKAccuracy, LongPassing, BallControl, Acceleration, SprintSpeed, Agility, Reactions, Balance, ShotPower, Jumping, Stamina, Strength, LongShots, Aggression, Interceptions, Positioning, Vision, Penalties, Composure, Marking, StandingTackle, SlidingTackle, GKDiving, GKHandling, GKKicking, GKPositioning, GKReflexes, and Release Clause."
   ]
  },
  {
   "cell_type": "code",
   "execution_count": 55,
   "metadata": {
    "ExecuteTime": {
     "end_time": "2024-01-23T18:49:30.538553600Z",
     "start_time": "2024-01-23T18:49:30.506296800Z"
    }
   },
   "outputs": [],
   "source": [
    "%matplotlib inline\n",
    "import numpy as np\n",
    "import pandas as pd \n",
    "import seaborn as sns\n",
    "import matplotlib.pyplot as plt\n",
    "import scipy.stats as ss\n",
    "from collections import Counter\n",
    "import math\n",
    "from scipy import stats"
   ]
  },
  {
   "cell_type": "code",
   "execution_count": 56,
   "metadata": {
    "ExecuteTime": {
     "end_time": "2024-01-23T18:49:31.515487800Z",
     "start_time": "2024-01-23T18:49:30.918008800Z"
    }
   },
   "outputs": [],
   "source": [
    "player_df = pd.read_csv(\"fifa19.csv\")"
   ]
  },
  {
   "cell_type": "code",
   "execution_count": 57,
   "metadata": {
    "ExecuteTime": {
     "end_time": "2024-01-23T18:49:31.533542300Z",
     "start_time": "2024-01-23T18:49:31.517502200Z"
    }
   },
   "outputs": [],
   "source": [
    "numcols = ['Overall', 'Crossing','Finishing',  'ShortPassing',  'Dribbling','LongPassing', 'BallControl', 'Acceleration','SprintSpeed', 'Agility',  'Stamina','Volleys','FKAccuracy','Reactions','Balance','ShotPower','Strength','LongShots','Aggression','Interceptions']\n",
    "catcols = ['Preferred Foot','Position','Body Type','Nationality','Weak Foot']"
   ]
  },
  {
   "cell_type": "code",
   "execution_count": 58,
   "metadata": {
    "ExecuteTime": {
     "end_time": "2024-01-23T18:49:31.822950800Z",
     "start_time": "2024-01-23T18:49:31.765266Z"
    }
   },
   "outputs": [],
   "source": [
    "player_df = player_df[numcols+catcols]"
   ]
  },
  {
   "cell_type": "code",
   "execution_count": 59,
   "metadata": {
    "ExecuteTime": {
     "end_time": "2024-01-23T18:49:32.351129400Z",
     "start_time": "2024-01-23T18:49:32.259267100Z"
    }
   },
   "outputs": [],
   "source": [
    "traindf = pd.concat([player_df[numcols], pd.get_dummies(player_df[catcols])],axis=1)\n",
    "features = traindf.columns\n",
    "\n",
    "traindf = traindf.dropna()"
   ]
  },
  {
   "cell_type": "code",
   "execution_count": 60,
   "metadata": {
    "ExecuteTime": {
     "end_time": "2024-01-23T18:49:32.756103300Z",
     "start_time": "2024-01-23T18:49:32.720790200Z"
    }
   },
   "outputs": [],
   "source": [
    "traindf = pd.DataFrame(traindf,columns=features)"
   ]
  },
  {
   "cell_type": "code",
   "execution_count": 61,
   "metadata": {
    "ExecuteTime": {
     "end_time": "2024-01-23T18:49:33.652831100Z",
     "start_time": "2024-01-23T18:49:33.142278700Z"
    }
   },
   "outputs": [],
   "source": [
    "y = traindf['Overall']>=87\n",
    "X = traindf.copy()\n",
    "del X['Overall']\n",
    "#Nationality removed from the dataset\n",
    "for feature in X.columns: \n",
    "    if 'Nationality' in feature:\n",
    "        del X[feature]"
   ]
  },
  {
   "cell_type": "code",
   "execution_count": 62,
   "metadata": {
    "ExecuteTime": {
     "end_time": "2024-01-23T18:49:33.749227700Z",
     "start_time": "2024-01-23T18:49:33.647305500Z"
    }
   },
   "outputs": [
    {
     "data": {
      "text/plain": "   Crossing  Finishing  ShortPassing  Dribbling  LongPassing  BallControl  \\\n0      84.0       95.0          90.0       97.0         87.0         96.0   \n1      84.0       94.0          81.0       88.0         77.0         94.0   \n2      79.0       87.0          84.0       96.0         78.0         95.0   \n3      17.0       13.0          50.0       18.0         51.0         42.0   \n4      93.0       82.0          92.0       86.0         91.0         91.0   \n\n   Acceleration  SprintSpeed  Agility  Stamina  ...  Body Type_Akinfenwa  \\\n0          91.0         86.0     91.0     72.0  ...                False   \n1          89.0         91.0     87.0     88.0  ...                False   \n2          94.0         90.0     96.0     81.0  ...                False   \n3          57.0         58.0     60.0     43.0  ...                False   \n4          78.0         76.0     79.0     90.0  ...                False   \n\n   Body Type_C. Ronaldo  Body Type_Courtois  Body Type_Lean  Body Type_Messi  \\\n0                 False               False           False             True   \n1                  True               False           False            False   \n2                 False               False           False            False   \n3                 False               False            True            False   \n4                 False               False           False            False   \n\n   Body Type_Neymar  Body Type_Normal  Body Type_PLAYER_BODY_TYPE_25  \\\n0             False             False                          False   \n1             False             False                          False   \n2              True             False                          False   \n3             False             False                          False   \n4             False              True                          False   \n\n   Body Type_Shaqiri  Body Type_Stocky  \n0              False             False  \n1              False             False  \n2              False             False  \n3              False             False  \n4              False             False  \n\n[5 rows x 59 columns]",
      "text/html": "<div>\n<style scoped>\n    .dataframe tbody tr th:only-of-type {\n        vertical-align: middle;\n    }\n\n    .dataframe tbody tr th {\n        vertical-align: top;\n    }\n\n    .dataframe thead th {\n        text-align: right;\n    }\n</style>\n<table border=\"1\" class=\"dataframe\">\n  <thead>\n    <tr style=\"text-align: right;\">\n      <th></th>\n      <th>Crossing</th>\n      <th>Finishing</th>\n      <th>ShortPassing</th>\n      <th>Dribbling</th>\n      <th>LongPassing</th>\n      <th>BallControl</th>\n      <th>Acceleration</th>\n      <th>SprintSpeed</th>\n      <th>Agility</th>\n      <th>Stamina</th>\n      <th>...</th>\n      <th>Body Type_Akinfenwa</th>\n      <th>Body Type_C. Ronaldo</th>\n      <th>Body Type_Courtois</th>\n      <th>Body Type_Lean</th>\n      <th>Body Type_Messi</th>\n      <th>Body Type_Neymar</th>\n      <th>Body Type_Normal</th>\n      <th>Body Type_PLAYER_BODY_TYPE_25</th>\n      <th>Body Type_Shaqiri</th>\n      <th>Body Type_Stocky</th>\n    </tr>\n  </thead>\n  <tbody>\n    <tr>\n      <th>0</th>\n      <td>84.0</td>\n      <td>95.0</td>\n      <td>90.0</td>\n      <td>97.0</td>\n      <td>87.0</td>\n      <td>96.0</td>\n      <td>91.0</td>\n      <td>86.0</td>\n      <td>91.0</td>\n      <td>72.0</td>\n      <td>...</td>\n      <td>False</td>\n      <td>False</td>\n      <td>False</td>\n      <td>False</td>\n      <td>True</td>\n      <td>False</td>\n      <td>False</td>\n      <td>False</td>\n      <td>False</td>\n      <td>False</td>\n    </tr>\n    <tr>\n      <th>1</th>\n      <td>84.0</td>\n      <td>94.0</td>\n      <td>81.0</td>\n      <td>88.0</td>\n      <td>77.0</td>\n      <td>94.0</td>\n      <td>89.0</td>\n      <td>91.0</td>\n      <td>87.0</td>\n      <td>88.0</td>\n      <td>...</td>\n      <td>False</td>\n      <td>True</td>\n      <td>False</td>\n      <td>False</td>\n      <td>False</td>\n      <td>False</td>\n      <td>False</td>\n      <td>False</td>\n      <td>False</td>\n      <td>False</td>\n    </tr>\n    <tr>\n      <th>2</th>\n      <td>79.0</td>\n      <td>87.0</td>\n      <td>84.0</td>\n      <td>96.0</td>\n      <td>78.0</td>\n      <td>95.0</td>\n      <td>94.0</td>\n      <td>90.0</td>\n      <td>96.0</td>\n      <td>81.0</td>\n      <td>...</td>\n      <td>False</td>\n      <td>False</td>\n      <td>False</td>\n      <td>False</td>\n      <td>False</td>\n      <td>True</td>\n      <td>False</td>\n      <td>False</td>\n      <td>False</td>\n      <td>False</td>\n    </tr>\n    <tr>\n      <th>3</th>\n      <td>17.0</td>\n      <td>13.0</td>\n      <td>50.0</td>\n      <td>18.0</td>\n      <td>51.0</td>\n      <td>42.0</td>\n      <td>57.0</td>\n      <td>58.0</td>\n      <td>60.0</td>\n      <td>43.0</td>\n      <td>...</td>\n      <td>False</td>\n      <td>False</td>\n      <td>False</td>\n      <td>True</td>\n      <td>False</td>\n      <td>False</td>\n      <td>False</td>\n      <td>False</td>\n      <td>False</td>\n      <td>False</td>\n    </tr>\n    <tr>\n      <th>4</th>\n      <td>93.0</td>\n      <td>82.0</td>\n      <td>92.0</td>\n      <td>86.0</td>\n      <td>91.0</td>\n      <td>91.0</td>\n      <td>78.0</td>\n      <td>76.0</td>\n      <td>79.0</td>\n      <td>90.0</td>\n      <td>...</td>\n      <td>False</td>\n      <td>False</td>\n      <td>False</td>\n      <td>False</td>\n      <td>False</td>\n      <td>False</td>\n      <td>True</td>\n      <td>False</td>\n      <td>False</td>\n      <td>False</td>\n    </tr>\n  </tbody>\n</table>\n<p>5 rows × 59 columns</p>\n</div>"
     },
     "execution_count": 62,
     "metadata": {},
     "output_type": "execute_result"
    }
   ],
   "source": [
    "X.head()"
   ]
  },
  {
   "cell_type": "code",
   "execution_count": 63,
   "metadata": {
    "ExecuteTime": {
     "end_time": "2024-01-23T18:49:34.447788500Z",
     "start_time": "2024-01-23T18:49:34.338026500Z"
    }
   },
   "outputs": [
    {
     "data": {
      "text/plain": "59"
     },
     "execution_count": 63,
     "metadata": {},
     "output_type": "execute_result"
    }
   ],
   "source": [
    "len(X.columns)"
   ]
  },
  {
   "cell_type": "markdown",
   "metadata": {},
   "source": [
    "### Set some fixed set of features"
   ]
  },
  {
   "cell_type": "code",
   "execution_count": 64,
   "metadata": {
    "ExecuteTime": {
     "end_time": "2024-01-23T18:49:35.496832100Z",
     "start_time": "2024-01-23T18:49:35.357791500Z"
    }
   },
   "outputs": [],
   "source": [
    "feature_name = list(X.columns)\n",
    "# no of maximum features we need to select\n",
    "num_feats=30"
   ]
  },
  {
   "cell_type": "markdown",
   "metadata": {},
   "source": [
    "## Filter Feature Selection - Pearson Correlation"
   ]
  },
  {
   "cell_type": "markdown",
   "metadata": {},
   "source": [
    "### Pearson Correlation function"
   ]
  },
  {
   "cell_type": "code",
   "execution_count": 65,
   "metadata": {
    "ExecuteTime": {
     "end_time": "2024-01-23T18:49:36.976803600Z",
     "start_time": "2024-01-23T18:49:36.857286500Z"
    }
   },
   "outputs": [],
   "source": [
    "def cor_selector(X, y,num_feats):\n",
    "    # Your code goes here (Multiple lines)\n",
    "    cor_list = []\n",
    "    feature_name = X.columns.tolist()\n",
    "    for i in feature_name: \n",
    "        cor_list.append(np.corrcoef(X[i], y)[0, 1])\n",
    "    \n",
    "    cor_list = [0 if np.isnan(i) else i for i in cor_list]\n",
    "    cor_feature = X.iloc[:, np.argsort(np.abs(cor_list)) [-num_feats:]].columns.tolist()\n",
    "    cor_support = [True if i in cor_feature else False for i in feature_name]\n",
    "    # Your code ends here\n",
    "    return cor_support, cor_feature"
   ]
  },
  {
   "cell_type": "code",
   "execution_count": 66,
   "metadata": {
    "ExecuteTime": {
     "end_time": "2024-01-23T18:49:37.792531100Z",
     "start_time": "2024-01-23T18:49:37.658991600Z"
    }
   },
   "outputs": [
    {
     "name": "stdout",
     "output_type": "stream",
     "text": [
      "30 selected features\n"
     ]
    }
   ],
   "source": [
    "cor_support, cor_feature = cor_selector(X, y,num_feats)\n",
    "print(str(len(cor_feature)), 'selected features')"
   ]
  },
  {
   "cell_type": "markdown",
   "metadata": {},
   "source": [
    "### List the selected features from Pearson Correlation"
   ]
  },
  {
   "cell_type": "code",
   "execution_count": 67,
   "metadata": {
    "ExecuteTime": {
     "end_time": "2024-01-23T18:49:39.123648200Z",
     "start_time": "2024-01-23T18:49:38.991384200Z"
    }
   },
   "outputs": [
    {
     "data": {
      "text/plain": "['Position_CM',\n 'Interceptions',\n 'Position_LW',\n 'Balance',\n 'Aggression',\n 'Position_LAM',\n 'Acceleration',\n 'SprintSpeed',\n 'Strength',\n 'Stamina',\n 'Weak Foot',\n 'Agility',\n 'Crossing',\n 'Dribbling',\n 'ShotPower',\n 'LongShots',\n 'Finishing',\n 'BallControl',\n 'FKAccuracy',\n 'LongPassing',\n 'Volleys',\n 'ShortPassing',\n 'Position_RF',\n 'Position_LF',\n 'Body Type_PLAYER_BODY_TYPE_25',\n 'Body Type_Courtois',\n 'Body Type_C. Ronaldo',\n 'Body Type_Messi',\n 'Body Type_Neymar',\n 'Reactions']"
     },
     "execution_count": 67,
     "metadata": {},
     "output_type": "execute_result"
    }
   ],
   "source": [
    "cor_feature"
   ]
  },
  {
   "cell_type": "markdown",
   "metadata": {},
   "source": [
    "## Filter Feature Selection - Chi-Sqaure"
   ]
  },
  {
   "cell_type": "code",
   "execution_count": 68,
   "metadata": {
    "ExecuteTime": {
     "end_time": "2024-01-23T18:49:40.753568900Z",
     "start_time": "2024-01-23T18:49:40.695405800Z"
    }
   },
   "outputs": [],
   "source": [
    "from sklearn.feature_selection import SelectKBest\n",
    "from sklearn.feature_selection import chi2\n",
    "from sklearn.preprocessing import MinMaxScaler"
   ]
  },
  {
   "cell_type": "markdown",
   "metadata": {},
   "source": [
    "### Chi-Squared Selector function"
   ]
  },
  {
   "cell_type": "code",
   "execution_count": 69,
   "metadata": {
    "ExecuteTime": {
     "end_time": "2024-01-23T18:49:42.155394400Z",
     "start_time": "2024-01-23T18:49:42.103989100Z"
    }
   },
   "outputs": [],
   "source": [
    "def chi_squared_selector(X, y, num_feats):\n",
    "    # Your code goes here (Multiple lines)\n",
    "    X_norm = MinMaxScaler().fit_transform(X)\n",
    "    chi_selector = SelectKBest(chi2, k=num_feats)\n",
    "    chi_selector.fit(X_norm, y)\n",
    "    chi_support = chi_selector.get_support()\n",
    "    chi_feature = X.loc[:, chi_support].columns.tolist()\n",
    "    # Your code ends here\n",
    "    return chi_support, chi_feature"
   ]
  },
  {
   "cell_type": "code",
   "execution_count": 70,
   "metadata": {
    "ExecuteTime": {
     "end_time": "2024-01-23T18:49:43.814468200Z",
     "start_time": "2024-01-23T18:49:43.671902700Z"
    }
   },
   "outputs": [
    {
     "name": "stdout",
     "output_type": "stream",
     "text": [
      "30 selected features\n"
     ]
    }
   ],
   "source": [
    "chi_support, chi_feature = chi_squared_selector(X, y,num_feats)\n",
    "print(str(len(chi_feature)), 'selected features')"
   ]
  },
  {
   "cell_type": "markdown",
   "metadata": {},
   "source": [
    "### List the selected features from Chi-Square "
   ]
  },
  {
   "cell_type": "code",
   "execution_count": 71,
   "metadata": {
    "ExecuteTime": {
     "end_time": "2024-01-23T18:49:47.694702800Z",
     "start_time": "2024-01-23T18:49:47.583815400Z"
    }
   },
   "outputs": [
    {
     "data": {
      "text/plain": "['Crossing',\n 'Finishing',\n 'ShortPassing',\n 'Dribbling',\n 'LongPassing',\n 'BallControl',\n 'Agility',\n 'Volleys',\n 'FKAccuracy',\n 'Reactions',\n 'ShotPower',\n 'LongShots',\n 'Weak Foot',\n 'Position_CB',\n 'Position_CM',\n 'Position_LAM',\n 'Position_LCB',\n 'Position_LCM',\n 'Position_LF',\n 'Position_LS',\n 'Position_LW',\n 'Position_RB',\n 'Position_RCM',\n 'Position_RF',\n 'Body Type_C. Ronaldo',\n 'Body Type_Courtois',\n 'Body Type_Lean',\n 'Body Type_Messi',\n 'Body Type_Neymar',\n 'Body Type_PLAYER_BODY_TYPE_25']"
     },
     "execution_count": 71,
     "metadata": {},
     "output_type": "execute_result"
    }
   ],
   "source": [
    "chi_feature"
   ]
  },
  {
   "cell_type": "markdown",
   "metadata": {},
   "source": [
    "## Wrapper Feature Selection - Recursive Feature Elimination"
   ]
  },
  {
   "cell_type": "code",
   "execution_count": 72,
   "metadata": {
    "ExecuteTime": {
     "end_time": "2024-01-23T18:49:50.602101500Z",
     "start_time": "2024-01-23T18:49:50.543380700Z"
    }
   },
   "outputs": [],
   "source": [
    "from sklearn.feature_selection import RFE\n",
    "from sklearn.linear_model import LogisticRegression\n",
    "from sklearn.preprocessing import MinMaxScaler"
   ]
  },
  {
   "cell_type": "markdown",
   "metadata": {},
   "source": [
    "### RFE Selector function"
   ]
  },
  {
   "cell_type": "code",
   "execution_count": 96,
   "metadata": {
    "ExecuteTime": {
     "end_time": "2024-01-23T19:12:40.042594600Z",
     "start_time": "2024-01-23T19:12:40.025257Z"
    }
   },
   "outputs": [],
   "source": [
    "def rfe_selector(X, y, num_feats):\n",
    "    # Your code goes here (Multiple lines)\n",
    "    X_norm = MinMaxScaler().fit_transform(X)\n",
    "    rfe_selector = RFE(estimator=LogisticRegression(), \n",
    "                      n_features_to_select=num_feats,\n",
    "                      step=10,\n",
    "                      verbose=0\n",
    "    )\n",
    "    rfe_selector.fit(X_norm, y)\n",
    "    rfe_support = rfe_selector.get_support()\n",
    "    rfe_feature = X.loc[:, rfe_support].columns.tolist()\n",
    "    # Your code ends here\n",
    "    return rfe_support, rfe_feature"
   ]
  },
  {
   "cell_type": "code",
   "execution_count": null,
   "metadata": {
    "is_executing": true
   },
   "outputs": [],
   "source": [
    "rfe_support, rfe_feature = rfe_selector(X, y,num_feats)\n",
    "print(str(len(rfe_feature)), 'selected features')"
   ]
  },
  {
   "cell_type": "markdown",
   "metadata": {},
   "source": [
    "### List the selected features from RFE"
   ]
  },
  {
   "cell_type": "code",
   "execution_count": 75,
   "metadata": {
    "ExecuteTime": {
     "end_time": "2024-01-23T18:49:57.633681600Z",
     "start_time": "2024-01-23T18:49:57.509303900Z"
    }
   },
   "outputs": [
    {
     "data": {
      "text/plain": "['Finishing',\n 'ShortPassing',\n 'LongPassing',\n 'BallControl',\n 'Acceleration',\n 'SprintSpeed',\n 'Agility',\n 'Stamina',\n 'Volleys',\n 'FKAccuracy',\n 'Reactions',\n 'Strength',\n 'Weak Foot',\n 'Preferred Foot_Right',\n 'Position_CB',\n 'Position_CM',\n 'Position_GK',\n 'Position_LAM',\n 'Position_LCB',\n 'Position_LF',\n 'Position_LM',\n 'Position_LW',\n 'Position_RB',\n 'Position_RCB',\n 'Position_RF',\n 'Position_RM',\n 'Position_RW',\n 'Body Type_Courtois',\n 'Body Type_Lean',\n 'Body Type_Stocky']"
     },
     "execution_count": 75,
     "metadata": {},
     "output_type": "execute_result"
    }
   ],
   "source": [
    "rfe_feature"
   ]
  },
  {
   "cell_type": "markdown",
   "metadata": {},
   "source": [
    "## Embedded Selection - Lasso: SelectFromModel"
   ]
  },
  {
   "cell_type": "code",
   "execution_count": 76,
   "metadata": {
    "ExecuteTime": {
     "end_time": "2024-01-23T18:50:04.466860800Z",
     "start_time": "2024-01-23T18:50:04.420547Z"
    }
   },
   "outputs": [],
   "source": [
    "from sklearn.feature_selection import SelectFromModel\n",
    "from sklearn.linear_model import LogisticRegression\n",
    "from sklearn.preprocessing import MinMaxScaler"
   ]
  },
  {
   "cell_type": "code",
   "execution_count": 77,
   "metadata": {
    "ExecuteTime": {
     "end_time": "2024-01-23T18:50:05.230673400Z",
     "start_time": "2024-01-23T18:50:05.158244Z"
    }
   },
   "outputs": [],
   "source": [
    "def embedded_log_reg_selector(X, y, num_feats):\n",
    "    # Your code goes here (Multiple lines)\n",
    "    X_norm = MinMaxScaler().fit_transform(X)\n",
    "    embedded_lr_selector = SelectFromModel(LogisticRegression(penalty='l1', solver='liblinear'), max_features=num_feats)\n",
    "    embedded_lr_selector.fit(X_norm, y)\n",
    "    \n",
    "    embedded_lr_support = embedded_lr_selector.get_support()\n",
    "    embedded_lr_feature = X.loc[:, embedded_lr_support].columns.tolist()\n",
    "    # Your code ends here\n",
    "    return embedded_lr_support, embedded_lr_feature"
   ]
  },
  {
   "cell_type": "code",
   "execution_count": 78,
   "metadata": {
    "ExecuteTime": {
     "end_time": "2024-01-23T18:50:10.072115Z",
     "start_time": "2024-01-23T18:50:06.121641400Z"
    }
   },
   "outputs": [
    {
     "name": "stdout",
     "output_type": "stream",
     "text": [
      "16 selected features\n"
     ]
    }
   ],
   "source": [
    "embedded_lr_support, embedded_lr_feature = embedded_log_reg_selector(X, y, num_feats)\n",
    "print(str(len(embedded_lr_feature)), 'selected features')"
   ]
  },
  {
   "cell_type": "code",
   "execution_count": 79,
   "metadata": {
    "ExecuteTime": {
     "end_time": "2024-01-23T18:50:12.723713300Z",
     "start_time": "2024-01-23T18:50:12.675508900Z"
    }
   },
   "outputs": [
    {
     "data": {
      "text/plain": "['LongPassing',\n 'Reactions',\n 'Balance',\n 'Aggression',\n 'Preferred Foot_Right',\n 'Position_CAM',\n 'Position_CM',\n 'Position_GK',\n 'Position_LCB',\n 'Position_LM',\n 'Position_LW',\n 'Position_RB',\n 'Position_RCB',\n 'Position_RW',\n 'Body Type_Lean',\n 'Body Type_Stocky']"
     },
     "execution_count": 79,
     "metadata": {},
     "output_type": "execute_result"
    }
   ],
   "source": [
    "embedded_lr_feature"
   ]
  },
  {
   "cell_type": "markdown",
   "metadata": {},
   "source": [
    "## Tree based(Random Forest): SelectFromModel"
   ]
  },
  {
   "cell_type": "code",
   "execution_count": 80,
   "metadata": {
    "ExecuteTime": {
     "end_time": "2024-01-23T18:50:15.718896700Z",
     "start_time": "2024-01-23T18:50:15.619671400Z"
    }
   },
   "outputs": [],
   "source": [
    "from sklearn.feature_selection import SelectFromModel\n",
    "from sklearn.ensemble import RandomForestClassifier"
   ]
  },
  {
   "cell_type": "code",
   "execution_count": 81,
   "metadata": {
    "ExecuteTime": {
     "end_time": "2024-01-23T18:50:16.394788300Z",
     "start_time": "2024-01-23T18:50:16.324981400Z"
    }
   },
   "outputs": [],
   "source": [
    "def embedded_rf_selector(X, y, num_feats):\n",
    "    # Your code goes here (Multiple lines)\n",
    "    embedded_rf_selector = SelectFromModel(RandomForestClassifier(n_estimators=100), max_features=num_feats)\n",
    "    embedded_rf_selector.fit(X, y)\n",
    "    \n",
    "    embedded_rf_support =  embedded_rf_selector.get_support()\n",
    "    embedded_rf_feature = X.loc[:, embedded_rf_support].columns.tolist()\n",
    "    # Your code ends here\n",
    "    return embedded_rf_support, embedded_rf_feature"
   ]
  },
  {
   "cell_type": "code",
   "execution_count": 82,
   "metadata": {
    "ExecuteTime": {
     "end_time": "2024-01-23T18:50:20.740757500Z",
     "start_time": "2024-01-23T18:50:17.307195800Z"
    }
   },
   "outputs": [
    {
     "name": "stdout",
     "output_type": "stream",
     "text": [
      "19 selected features\n"
     ]
    }
   ],
   "source": [
    "embedder_rf_support, embedder_rf_feature = embedded_rf_selector(X, y, num_feats)\n",
    "print(str(len(embedder_rf_feature)), 'selected features')"
   ]
  },
  {
   "cell_type": "code",
   "execution_count": 83,
   "metadata": {
    "ExecuteTime": {
     "end_time": "2024-01-23T18:50:22.929656300Z",
     "start_time": "2024-01-23T18:50:22.876327Z"
    }
   },
   "outputs": [
    {
     "data": {
      "text/plain": "['Crossing',\n 'Finishing',\n 'ShortPassing',\n 'Dribbling',\n 'LongPassing',\n 'BallControl',\n 'Acceleration',\n 'SprintSpeed',\n 'Agility',\n 'Stamina',\n 'Volleys',\n 'FKAccuracy',\n 'Reactions',\n 'Balance',\n 'ShotPower',\n 'Strength',\n 'LongShots',\n 'Aggression',\n 'Interceptions']"
     },
     "execution_count": 83,
     "metadata": {},
     "output_type": "execute_result"
    }
   ],
   "source": [
    "embedder_rf_feature"
   ]
  },
  {
   "cell_type": "markdown",
   "metadata": {},
   "source": [
    "## Tree based(Light GBM): SelectFromModel"
   ]
  },
  {
   "cell_type": "code",
   "execution_count": 84,
   "metadata": {
    "ExecuteTime": {
     "end_time": "2024-01-23T18:50:24.369054200Z",
     "start_time": "2024-01-23T18:50:24.322715300Z"
    }
   },
   "outputs": [],
   "source": [
    "from sklearn.feature_selection import SelectFromModel\n",
    "from lightgbm import LGBMClassifier"
   ]
  },
  {
   "cell_type": "code",
   "execution_count": 87,
   "metadata": {
    "ExecuteTime": {
     "end_time": "2024-01-23T18:51:59.165939300Z",
     "start_time": "2024-01-23T18:51:59.076419300Z"
    }
   },
   "outputs": [],
   "source": [
    "def embedded_lgbm_selector(X, y, num_feats):\n",
    "    # Your code goes here (Multiple lines)\n",
    "    lgbc = LGBMClassifier(n_estimators=100, learning_rate=0.05, num_leaves=32, colsample_bytree=0.2, reg_alpha=3, reg_lambda=1, min_split_gain=0.01, min_child_weight=40, verbose=-1)\n",
    "    \n",
    "    embedded_lgbm_selector = SelectFromModel(lgbc, max_features=num_feats)\n",
    "    embedded_lgbm_selector.fit(X, y)\n",
    "    \n",
    "    embedded_lgbm_support = embedded_lgbm_selector.get_support()\n",
    "    embedded_lgbm_feature = X.loc[:, embedded_lgbm_support].columns.tolist()\n",
    "    # Your code ends here\n",
    "    return embedded_lgbm_support, embedded_lgbm_feature"
   ]
  },
  {
   "cell_type": "code",
   "execution_count": 88,
   "metadata": {
    "ExecuteTime": {
     "end_time": "2024-01-23T18:52:02.987147500Z",
     "start_time": "2024-01-23T18:52:01.439707100Z"
    }
   },
   "outputs": [
    {
     "name": "stdout",
     "output_type": "stream",
     "text": [
      "30 selected features\n"
     ]
    }
   ],
   "source": [
    "embedded_lgbm_support, embedded_lgbm_feature = embedded_lgbm_selector(X, y, num_feats)\n",
    "print(str(len(embedded_lgbm_feature)), 'selected features')"
   ]
  },
  {
   "cell_type": "code",
   "execution_count": 89,
   "metadata": {
    "ExecuteTime": {
     "end_time": "2024-01-23T18:52:05.777401400Z",
     "start_time": "2024-01-23T18:52:05.722729500Z"
    }
   },
   "outputs": [
    {
     "data": {
      "text/plain": "['Crossing',\n 'Finishing',\n 'ShortPassing',\n 'Dribbling',\n 'LongPassing',\n 'BallControl',\n 'Acceleration',\n 'SprintSpeed',\n 'Agility',\n 'Stamina',\n 'Volleys',\n 'FKAccuracy',\n 'Reactions',\n 'Balance',\n 'ShotPower',\n 'Strength',\n 'LongShots',\n 'Aggression',\n 'Interceptions',\n 'Weak Foot',\n 'Preferred Foot_Left',\n 'Preferred Foot_Right',\n 'Position_CAM',\n 'Position_CB',\n 'Position_CDM',\n 'Position_CF',\n 'Position_CM',\n 'Position_GK',\n 'Position_LAM',\n 'Position_LB']"
     },
     "execution_count": 89,
     "metadata": {},
     "output_type": "execute_result"
    }
   ],
   "source": [
    "embedded_lgbm_feature"
   ]
  },
  {
   "cell_type": "markdown",
   "metadata": {},
   "source": [
    "## Putting all of it together: AutoFeatureSelector Tool"
   ]
  },
  {
   "cell_type": "code",
   "execution_count": 90,
   "metadata": {
    "ExecuteTime": {
     "end_time": "2024-01-23T18:52:08.603431600Z",
     "start_time": "2024-01-23T18:52:08.454080400Z"
    }
   },
   "outputs": [
    {
     "data": {
      "text/plain": "                 Feature  Pearson  Chi-2    RFE  Logistics  Random Forest  \\\n1              Reactions     True   True   True       True           True   \n2            LongPassing     True   True   True       True           True   \n3                Volleys     True   True   True      False           True   \n4           ShortPassing     True   True   True      False           True   \n5            Position_CM     True   True   True       True          False   \n6              Finishing     True   True   True      False           True   \n7             FKAccuracy     True   True   True      False           True   \n8            BallControl     True   True   True      False           True   \n9                Agility     True   True   True      False           True   \n10             Weak Foot     True   True   True      False          False   \n11              Strength     True  False   True      False           True   \n12               Stamina     True  False   True      False           True   \n13           SprintSpeed     True  False   True      False           True   \n14             ShotPower     True   True  False      False           True   \n15           Position_LW     True   True   True       True          False   \n16          Position_LAM     True   True   True      False          False   \n17             LongShots     True   True  False      False           True   \n18             Dribbling     True   True  False      False           True   \n19              Crossing     True   True  False      False           True   \n20               Balance     True  False  False       True           True   \n21            Aggression     True  False  False       True           True   \n22          Acceleration     True  False   True      False           True   \n23  Preferred Foot_Right    False  False   True       True          False   \n24           Position_RF     True   True   True      False          False   \n25           Position_RB    False   True   True       True          False   \n26           Position_LF     True   True   True      False          False   \n27          Position_LCB    False   True   True       True          False   \n28           Position_GK    False  False   True       True          False   \n29           Position_CB    False   True   True      False          False   \n30         Interceptions     True  False  False      False           True   \n\n    LightGBM Total  \n1       True     6  \n2       True     6  \n3       True     5  \n4       True     5  \n5       True     5  \n6       True     5  \n7       True     5  \n8       True     5  \n9       True     5  \n10      True     4  \n11      True     4  \n12      True     4  \n13      True     4  \n14      True     4  \n15     False     4  \n16      True     4  \n17      True     4  \n18      True     4  \n19      True     4  \n20      True     4  \n21      True     4  \n22      True     4  \n23      True     3  \n24     False     3  \n25     False     3  \n26     False     3  \n27     False     3  \n28      True     3  \n29      True     3  \n30      True     3  ",
      "text/html": "<div>\n<style scoped>\n    .dataframe tbody tr th:only-of-type {\n        vertical-align: middle;\n    }\n\n    .dataframe tbody tr th {\n        vertical-align: top;\n    }\n\n    .dataframe thead th {\n        text-align: right;\n    }\n</style>\n<table border=\"1\" class=\"dataframe\">\n  <thead>\n    <tr style=\"text-align: right;\">\n      <th></th>\n      <th>Feature</th>\n      <th>Pearson</th>\n      <th>Chi-2</th>\n      <th>RFE</th>\n      <th>Logistics</th>\n      <th>Random Forest</th>\n      <th>LightGBM</th>\n      <th>Total</th>\n    </tr>\n  </thead>\n  <tbody>\n    <tr>\n      <th>1</th>\n      <td>Reactions</td>\n      <td>True</td>\n      <td>True</td>\n      <td>True</td>\n      <td>True</td>\n      <td>True</td>\n      <td>True</td>\n      <td>6</td>\n    </tr>\n    <tr>\n      <th>2</th>\n      <td>LongPassing</td>\n      <td>True</td>\n      <td>True</td>\n      <td>True</td>\n      <td>True</td>\n      <td>True</td>\n      <td>True</td>\n      <td>6</td>\n    </tr>\n    <tr>\n      <th>3</th>\n      <td>Volleys</td>\n      <td>True</td>\n      <td>True</td>\n      <td>True</td>\n      <td>False</td>\n      <td>True</td>\n      <td>True</td>\n      <td>5</td>\n    </tr>\n    <tr>\n      <th>4</th>\n      <td>ShortPassing</td>\n      <td>True</td>\n      <td>True</td>\n      <td>True</td>\n      <td>False</td>\n      <td>True</td>\n      <td>True</td>\n      <td>5</td>\n    </tr>\n    <tr>\n      <th>5</th>\n      <td>Position_CM</td>\n      <td>True</td>\n      <td>True</td>\n      <td>True</td>\n      <td>True</td>\n      <td>False</td>\n      <td>True</td>\n      <td>5</td>\n    </tr>\n    <tr>\n      <th>6</th>\n      <td>Finishing</td>\n      <td>True</td>\n      <td>True</td>\n      <td>True</td>\n      <td>False</td>\n      <td>True</td>\n      <td>True</td>\n      <td>5</td>\n    </tr>\n    <tr>\n      <th>7</th>\n      <td>FKAccuracy</td>\n      <td>True</td>\n      <td>True</td>\n      <td>True</td>\n      <td>False</td>\n      <td>True</td>\n      <td>True</td>\n      <td>5</td>\n    </tr>\n    <tr>\n      <th>8</th>\n      <td>BallControl</td>\n      <td>True</td>\n      <td>True</td>\n      <td>True</td>\n      <td>False</td>\n      <td>True</td>\n      <td>True</td>\n      <td>5</td>\n    </tr>\n    <tr>\n      <th>9</th>\n      <td>Agility</td>\n      <td>True</td>\n      <td>True</td>\n      <td>True</td>\n      <td>False</td>\n      <td>True</td>\n      <td>True</td>\n      <td>5</td>\n    </tr>\n    <tr>\n      <th>10</th>\n      <td>Weak Foot</td>\n      <td>True</td>\n      <td>True</td>\n      <td>True</td>\n      <td>False</td>\n      <td>False</td>\n      <td>True</td>\n      <td>4</td>\n    </tr>\n    <tr>\n      <th>11</th>\n      <td>Strength</td>\n      <td>True</td>\n      <td>False</td>\n      <td>True</td>\n      <td>False</td>\n      <td>True</td>\n      <td>True</td>\n      <td>4</td>\n    </tr>\n    <tr>\n      <th>12</th>\n      <td>Stamina</td>\n      <td>True</td>\n      <td>False</td>\n      <td>True</td>\n      <td>False</td>\n      <td>True</td>\n      <td>True</td>\n      <td>4</td>\n    </tr>\n    <tr>\n      <th>13</th>\n      <td>SprintSpeed</td>\n      <td>True</td>\n      <td>False</td>\n      <td>True</td>\n      <td>False</td>\n      <td>True</td>\n      <td>True</td>\n      <td>4</td>\n    </tr>\n    <tr>\n      <th>14</th>\n      <td>ShotPower</td>\n      <td>True</td>\n      <td>True</td>\n      <td>False</td>\n      <td>False</td>\n      <td>True</td>\n      <td>True</td>\n      <td>4</td>\n    </tr>\n    <tr>\n      <th>15</th>\n      <td>Position_LW</td>\n      <td>True</td>\n      <td>True</td>\n      <td>True</td>\n      <td>True</td>\n      <td>False</td>\n      <td>False</td>\n      <td>4</td>\n    </tr>\n    <tr>\n      <th>16</th>\n      <td>Position_LAM</td>\n      <td>True</td>\n      <td>True</td>\n      <td>True</td>\n      <td>False</td>\n      <td>False</td>\n      <td>True</td>\n      <td>4</td>\n    </tr>\n    <tr>\n      <th>17</th>\n      <td>LongShots</td>\n      <td>True</td>\n      <td>True</td>\n      <td>False</td>\n      <td>False</td>\n      <td>True</td>\n      <td>True</td>\n      <td>4</td>\n    </tr>\n    <tr>\n      <th>18</th>\n      <td>Dribbling</td>\n      <td>True</td>\n      <td>True</td>\n      <td>False</td>\n      <td>False</td>\n      <td>True</td>\n      <td>True</td>\n      <td>4</td>\n    </tr>\n    <tr>\n      <th>19</th>\n      <td>Crossing</td>\n      <td>True</td>\n      <td>True</td>\n      <td>False</td>\n      <td>False</td>\n      <td>True</td>\n      <td>True</td>\n      <td>4</td>\n    </tr>\n    <tr>\n      <th>20</th>\n      <td>Balance</td>\n      <td>True</td>\n      <td>False</td>\n      <td>False</td>\n      <td>True</td>\n      <td>True</td>\n      <td>True</td>\n      <td>4</td>\n    </tr>\n    <tr>\n      <th>21</th>\n      <td>Aggression</td>\n      <td>True</td>\n      <td>False</td>\n      <td>False</td>\n      <td>True</td>\n      <td>True</td>\n      <td>True</td>\n      <td>4</td>\n    </tr>\n    <tr>\n      <th>22</th>\n      <td>Acceleration</td>\n      <td>True</td>\n      <td>False</td>\n      <td>True</td>\n      <td>False</td>\n      <td>True</td>\n      <td>True</td>\n      <td>4</td>\n    </tr>\n    <tr>\n      <th>23</th>\n      <td>Preferred Foot_Right</td>\n      <td>False</td>\n      <td>False</td>\n      <td>True</td>\n      <td>True</td>\n      <td>False</td>\n      <td>True</td>\n      <td>3</td>\n    </tr>\n    <tr>\n      <th>24</th>\n      <td>Position_RF</td>\n      <td>True</td>\n      <td>True</td>\n      <td>True</td>\n      <td>False</td>\n      <td>False</td>\n      <td>False</td>\n      <td>3</td>\n    </tr>\n    <tr>\n      <th>25</th>\n      <td>Position_RB</td>\n      <td>False</td>\n      <td>True</td>\n      <td>True</td>\n      <td>True</td>\n      <td>False</td>\n      <td>False</td>\n      <td>3</td>\n    </tr>\n    <tr>\n      <th>26</th>\n      <td>Position_LF</td>\n      <td>True</td>\n      <td>True</td>\n      <td>True</td>\n      <td>False</td>\n      <td>False</td>\n      <td>False</td>\n      <td>3</td>\n    </tr>\n    <tr>\n      <th>27</th>\n      <td>Position_LCB</td>\n      <td>False</td>\n      <td>True</td>\n      <td>True</td>\n      <td>True</td>\n      <td>False</td>\n      <td>False</td>\n      <td>3</td>\n    </tr>\n    <tr>\n      <th>28</th>\n      <td>Position_GK</td>\n      <td>False</td>\n      <td>False</td>\n      <td>True</td>\n      <td>True</td>\n      <td>False</td>\n      <td>True</td>\n      <td>3</td>\n    </tr>\n    <tr>\n      <th>29</th>\n      <td>Position_CB</td>\n      <td>False</td>\n      <td>True</td>\n      <td>True</td>\n      <td>False</td>\n      <td>False</td>\n      <td>True</td>\n      <td>3</td>\n    </tr>\n    <tr>\n      <th>30</th>\n      <td>Interceptions</td>\n      <td>True</td>\n      <td>False</td>\n      <td>False</td>\n      <td>False</td>\n      <td>True</td>\n      <td>True</td>\n      <td>3</td>\n    </tr>\n  </tbody>\n</table>\n</div>"
     },
     "execution_count": 90,
     "metadata": {},
     "output_type": "execute_result"
    }
   ],
   "source": [
    "pd.set_option('display.max_rows', None)\n",
    "# put all selection together\n",
    "feature_selection_df = pd.DataFrame({'Feature':feature_name, 'Pearson':cor_support, 'Chi-2':chi_support, 'RFE':rfe_support, 'Logistics':embedded_lr_support,\n",
    "                                    'Random Forest':embedder_rf_support, 'LightGBM':embedded_lgbm_support})\n",
    "\n",
    "df_numeric = feature_selection_df.map(lambda x: 1 if x is True else (0 if x is False else None))\n",
    "# count the selected times for each feature\n",
    "feature_selection_df['Total'] = df_numeric.sum(axis=1)\n",
    "# display the top 100\n",
    "feature_selection_df = feature_selection_df.sort_values(['Total','Feature'] , ascending=False)\n",
    "feature_selection_df.index = range(1, len(feature_selection_df)+1)\n",
    "feature_selection_df.head(num_feats)"
   ]
  },
  {
   "cell_type": "markdown",
   "metadata": {},
   "source": [
    "## Can you build a Python script that takes dataset and a list of different feature selection methods that you want to try and output the best (maximum votes) features from all methods?"
   ]
  },
  {
   "cell_type": "code",
   "execution_count": 91,
   "metadata": {
    "ExecuteTime": {
     "end_time": "2024-01-23T18:52:36.600776500Z",
     "start_time": "2024-01-23T18:52:36.582628700Z"
    }
   },
   "outputs": [],
   "source": [
    "def preprocess_dataset(dataset_path):\n",
    "    # Your code starts here (Multiple lines)\n",
    "    player_df = pd.read_csv(\"fifa19.csv\")\n",
    "    num_feats = 30\n",
    "    \n",
    "    numcols = ['Overall', 'Crossing','Finishing',  'ShortPassing',  'Dribbling','LongPassing', 'BallControl', 'Acceleration','SprintSpeed', 'Agility',  'Stamina','Volleys','FKAccuracy','Reactions','Balance','ShotPower','Strength','LongShots','Aggression','Interceptions']\n",
    "    catcols = ['Preferred Foot','Position','Body Type','Nationality','Weak Foot']\n",
    "    \n",
    "    player_df = player_df[numcols+catcols]\n",
    "    \n",
    "    traindf = pd.concat([player_df[numcols], pd.get_dummies(player_df[catcols])],axis=1)\n",
    "    features = traindf.columns\n",
    "\n",
    "    traindf = traindf.dropna()\n",
    "    \n",
    "    traindf = pd.DataFrame(traindf,columns=features)\n",
    "    \n",
    "    y = traindf['Overall']>=87\n",
    "    X = traindf.copy()\n",
    "    del X['Overall']\n",
    "    #Nationality removed from the dataset\n",
    "    for feature in X.columns: \n",
    "        if 'Nationality' in feature:\n",
    "            del X[feature]\n",
    "    \n",
    "    # Your code ends here\n",
    "    return X, y, num_feats"
   ]
  },
  {
   "cell_type": "code",
   "execution_count": 92,
   "metadata": {
    "ExecuteTime": {
     "end_time": "2024-01-23T18:53:05.783201600Z",
     "start_time": "2024-01-23T18:53:05.764816900Z"
    }
   },
   "outputs": [],
   "source": [
    "def autoFeatureSelector(dataset_path, methods=[]):\n",
    "    # Parameters\n",
    "    # data - dataset to be analyzed (csv file)\n",
    "    # methods - various feature selection methods we outlined before, use them all here (list)\n",
    "    \n",
    "    # preprocessing\n",
    "    X, y, num_feats = preprocess_dataset(dataset_path)\n",
    "    \n",
    "    # Run every method we outlined above from the methods list and collect returned best features from every method\n",
    "    if 'pearson' in methods:\n",
    "        cor_support, cor_feature = cor_selector(X, y,num_feats)\n",
    "    if 'chi-square' in methods:\n",
    "        chi_support, chi_feature = chi_squared_selector(X, y,num_feats)\n",
    "    if 'rfe' in methods:\n",
    "        rfe_support, rfe_feature = rfe_selector(X, y,num_feats)\n",
    "    if 'log-reg' in methods:\n",
    "        embedded_lr_support, embedded_lr_feature = embedded_log_reg_selector(X, y, num_feats)\n",
    "    if 'rf' in methods:\n",
    "        embedded_rf_support, embedded_rf_feature = embedded_rf_selector(X, y, num_feats)\n",
    "    if 'lgbm' in methods:\n",
    "        embedded_lgbm_support, embedded_lgbm_feature = embedded_lgbm_selector(X, y, num_feats)\n",
    "    \n",
    "    \n",
    "    # Combine all the above feature list and count the maximum set of features that got selected by all methods\n",
    "    #### Your Code starts here (Multiple lines)\n",
    "    pd.set_option('display.max_rows', None)\n",
    "    # put all selection together\n",
    "    feature_selection_df = pd.DataFrame({'Feature':feature_name, 'Pearson':cor_support, 'Chi-2':chi_support, 'RFE':rfe_support, 'Logistics':embedded_lr_support,\n",
    "                                    'Random Forest':embedded_rf_support, 'LightGBM':embedded_lgbm_support})\n",
    "\n",
    "    df_numeric = feature_selection_df.map(lambda x: 1 if x is True else (0 if x is False else None))\n",
    "    # count the selected times for each feature\n",
    "    feature_selection_df['Total'] = df_numeric.sum(axis=1)\n",
    "    # display the top 100\n",
    "    feature_selection_df = feature_selection_df.sort_values(['Total','Feature'] , ascending=False)\n",
    "    feature_selection_df.index = range(1, len(feature_selection_df)+1)\n",
    "    \n",
    "    best_features = feature_selection_df.head(num_feats).Feature\n",
    "    #### Your Code ends here\n",
    "    return best_features"
   ]
  },
  {
   "cell_type": "code",
   "execution_count": 93,
   "metadata": {
    "ExecuteTime": {
     "end_time": "2024-01-23T18:53:39.045289700Z",
     "start_time": "2024-01-23T18:53:35.499343800Z"
    }
   },
   "outputs": [
    {
     "name": "stdout",
     "output_type": "stream",
     "text": [
      "Fitting estimator with 59 features.\n",
      "Fitting estimator with 49 features.\n",
      "Fitting estimator with 39 features.\n"
     ]
    },
    {
     "data": {
      "text/plain": "1                Reactions\n2              LongPassing\n3                  Volleys\n4             ShortPassing\n5              Position_CM\n6                Finishing\n7               FKAccuracy\n8              BallControl\n9                  Agility\n10               Weak Foot\n11                Strength\n12                 Stamina\n13             SprintSpeed\n14               ShotPower\n15             Position_LW\n16            Position_LAM\n17               LongShots\n18               Dribbling\n19                Crossing\n20                 Balance\n21              Aggression\n22            Acceleration\n23    Preferred Foot_Right\n24             Position_RF\n25             Position_RB\n26             Position_LF\n27            Position_LCB\n28             Position_GK\n29             Position_CB\n30           Interceptions\nName: Feature, dtype: object"
     },
     "execution_count": 93,
     "metadata": {},
     "output_type": "execute_result"
    }
   ],
   "source": [
    "best_features = autoFeatureSelector(dataset_path=\"fifa19.csv\", methods=['pearson', 'chi-square', 'rfe', 'log-reg', 'rf', 'lgbm'])\n",
    "best_features"
   ]
  },
  {
   "cell_type": "markdown",
   "metadata": {},
   "source": [
    "### Last, Can you turn this notebook into a python script, run it and submit the python (.py) file that takes dataset and list of methods as inputs and outputs the best features"
   ]
  },
  {
   "cell_type": "code",
   "execution_count": null,
   "metadata": {
    "ExecuteTime": {
     "end_time": "2024-01-23T18:02:37.278122800Z",
     "start_time": "2024-01-23T18:02:37.275112200Z"
    }
   },
   "outputs": [],
   "source": []
  }
 ],
 "metadata": {
  "kernelspec": {
   "name": "python3",
   "language": "python",
   "display_name": "Python 3 (ipykernel)"
  },
  "language_info": {
   "codemirror_mode": {
    "name": "ipython",
    "version": 3
   },
   "file_extension": ".py",
   "mimetype": "text/x-python",
   "name": "python",
   "nbconvert_exporter": "python",
   "pygments_lexer": "ipython3",
   "version": "3.8.5"
  }
 },
 "nbformat": 4,
 "nbformat_minor": 4
}
